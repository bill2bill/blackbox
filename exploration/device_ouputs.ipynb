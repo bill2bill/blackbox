{
 "cells": [
  {
   "cell_type": "code",
   "execution_count": 5,
   "metadata": {},
   "outputs": [],
   "source": [
    "a = bytearray(b'\\x16\\x11\\x0b\\x00\\x00\\x00\\x04\\x00\\x00\\x04\\xe2\\x00\\x00\\x00\\xbf\\x02\\x00\\x00\\x16\\r')\n",
    "b = bytearray(b'\\x16\\x11\\x0b\\x00\\x00\\x00\\x04\\x00\\x00\\x04\\xe2\\x00\\x00\\x00\\xc2\\x02\\x00\\x00\\x16\\n')\n",
    "c = bytearray(b'\\x16\\x11\\x0b\\x00\\x00\\x00\\x04\\x00\\x00\\x04\\xe4\\x00\\x00\\x00\\xa7\\x02\\x00\\x00\\x16#')\n",
    "d = bytearray(b'\\x16\\x11\\x0b\\x00\\x00\\x00\\x04\\x00\\x00\\x04\\xe3\\x00\\x00\\x00\\xa7\\x02\\x00\\x00\\x16$')"
   ]
  },
  {
   "cell_type": "code",
   "execution_count": 8,
   "metadata": {},
   "outputs": [],
   "source": [
    "def parse_pm25(buf):\n",
    "    return str((buf[5] << 8) | buf[6])"
   ]
  },
  {
   "cell_type": "code",
   "execution_count": 9,
   "metadata": {},
   "outputs": [
    {
     "name": "stdout",
     "output_type": "stream",
     "text": [
      "4\n",
      "4\n",
      "4\n",
      "4\n"
     ]
    }
   ],
   "source": [
    "print(parse_pm25(a))\n",
    "print(parse_pm25(b))\n",
    "print(parse_pm25(c))\n",
    "print(parse_pm25(d))"
   ]
  },
  {
   "cell_type": "code",
   "execution_count": 10,
   "metadata": {},
   "outputs": [
    {
     "name": "stdout",
     "output_type": "stream",
     "text": [
      "20\n"
     ]
    }
   ],
   "source": [
    "print(len(a))"
   ]
  },
  {
   "cell_type": "code",
   "execution_count": 1,
   "metadata": {},
   "outputs": [],
   "source": [
    "# https://www.sparkfun.com/datasheets/GPS/NMEA%20Reference%20Manual1.pdf\n",
    "\n",
    "# RMC— Recommended Minimum Specific GNSS Data\n",
    "a = bytearray(b'$GPRMC,173822.00,A,9027.93767,N,10236.83401,W,0.132,,230723,,,A*6C\\r\\n')\n",
    "# VTG — Course Over Ground and Ground Speed\n",
    "b = bytearray(b'$GPVTG,,T,,M,0.132,N,0.244,K,A*21\\r\\n')\n",
    "# GGA — Global Positioning System Fixed Data\n",
    "c = bytearray(b'$GPGGA,173822.00,9027.93767,N,10236.83401,W,1,08,1.13,80.1,M,48.6,M,,*7F\\r\\n')\n",
    "d = bytearray(b'$GPGSA,A,3,20,30,05,11,06,07,13,09,,,,,2.17,1.13,1.85*07\\r\\n')\n",
    "e = bytearray(b'$GPGSV,3,1,10,05,33,300,23,06,23,190,28,07,62,111,26,09,38,073,29*73\\r\\n')\n",
    "f = bytearray(b'$GPGSV,3,2,10,11,49,236,39,13,14,248,34,16,10,029,18,20,62,289,42*70\\r\\n')\n",
    "g = bytearray(b'$GPGSV,3,3,10,29,10,311,16,30,51,168,31*7C\\r\\n')\n",
    "h = bytearray(b'$GPGLL,9027.93767,N,10236.83401,W,173822.00,A,A*72\\r\\n')"
   ]
  },
  {
   "cell_type": "code",
   "execution_count": 2,
   "metadata": {},
   "outputs": [
    {
     "name": "stdout",
     "output_type": "stream",
     "text": [
      "$GPRMC,173822.00,A,9027.93767,N,10236.83401,W,0.132,,230723,,,A*6C\n",
      "\n"
     ]
    }
   ],
   "source": [
    "print(a.decode('ascii'))"
   ]
  },
  {
   "cell_type": "code",
   "execution_count": 6,
   "metadata": {},
   "outputs": [
    {
     "data": {
      "text/plain": [
       "13"
      ]
     },
     "execution_count": 6,
     "metadata": {},
     "output_type": "execute_result"
    }
   ],
   "source": [
    "len(str(a).split(','))"
   ]
  },
  {
   "cell_type": "code",
   "execution_count": 2,
   "metadata": {},
   "outputs": [
    {
     "ename": "TypeError",
     "evalue": "sequence item 0: expected str instance, NoneType found",
     "output_type": "error",
     "traceback": [
      "\u001b[1;31m---------------------------------------------------------------------------\u001b[0m",
      "\u001b[1;31mTypeError\u001b[0m                                 Traceback (most recent call last)",
      "Cell \u001b[1;32mIn[2], line 1\u001b[0m\n\u001b[1;32m----> 1\u001b[0m \u001b[39m'\u001b[39;49m\u001b[39m,\u001b[39;49m\u001b[39m'\u001b[39;49m\u001b[39m.\u001b[39;49mjoin([\u001b[39mNone\u001b[39;49;00m, \u001b[39mNone\u001b[39;49;00m])\n",
      "\u001b[1;31mTypeError\u001b[0m: sequence item 0: expected str instance, NoneType found"
     ]
    }
   ],
   "source": [
    "','.join([None, None])"
   ]
  },
  {
   "cell_type": "code",
   "execution_count": null,
   "metadata": {},
   "outputs": [],
   "source": [
    "# GPRMC"
   ]
  }
 ],
 "metadata": {
  "kernelspec": {
   "display_name": "Python 3",
   "language": "python",
   "name": "python3"
  },
  "language_info": {
   "codemirror_mode": {
    "name": "ipython",
    "version": 3
   },
   "file_extension": ".py",
   "mimetype": "text/x-python",
   "name": "python",
   "nbconvert_exporter": "python",
   "pygments_lexer": "ipython3",
   "version": "3.9.7"
  },
  "orig_nbformat": 4
 },
 "nbformat": 4,
 "nbformat_minor": 2
}
